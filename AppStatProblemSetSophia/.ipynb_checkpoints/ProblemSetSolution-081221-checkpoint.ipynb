{
 "cells": [
  {
   "cell_type": "markdown",
   "metadata": {},
   "source": [
    "# Problem Set 2021\n",
    "\n",
    "\n",
    "\n",
    "## Author(s), contact(s), and dates:\n",
    "- Author: Sophia Wilson\n",
    "- Email:  ldr934@alumni.ku.dk\n",
    "- Date:   3rd of January 2022"
   ]
  },
  {
   "cell_type": "code",
   "execution_count": 1,
   "metadata": {},
   "outputs": [],
   "source": [
    "import numpy as np                                     # Matlab like syntax for linear algebra and functions\n",
    "import matplotlib.pyplot as plt                        # Plots and figures like you know them from Matlab\n",
    "import seaborn as sns                                  # Make the plots nicer to look at\n",
    "from iminuit import Minuit                             # The actual fitting tool, better than scipy's\n",
    "import sys                                             # Modules to see files and folders in directories\n",
    "import math\n",
    "from uncertainties import ufloat\n",
    "from scipy import stats\n",
    "from scipy.stats import binom, poisson, norm           # Functions from SciPy Stats...\n",
    "from importlib import reload\n",
    "from scipy import stats"
   ]
  },
  {
   "cell_type": "code",
   "execution_count": 2,
   "metadata": {},
   "outputs": [],
   "source": [
    "sys.path.append('../../AppStat2021/External_Functions')\n",
    "import SophiasExternalFunctions as sw\n",
    "from ExternalFunctions import UnbinnedLH, BinnedLH, Chi2Regression\n",
    "from ExternalFunctions import nice_string_output, add_text_to_ax # useful functions to print fit results on figure"
   ]
  },
  {
   "cell_type": "code",
   "execution_count": 3,
   "metadata": {},
   "outputs": [],
   "source": [
    "reload(sw); #reloading library (updating changes)"
   ]
  },
  {
   "cell_type": "markdown",
   "metadata": {},
   "source": [
    "## I - Distributions and probabilities"
   ]
  },
  {
   "cell_type": "markdown",
   "metadata": {},
   "source": [
    "### 1.1 Dices"
   ]
  },
  {
   "cell_type": "markdown",
   "metadata": {},
   "source": [
    "**Experiment: Counting the number of 3s among 20 normal dice 1000 times**"
   ]
  },
  {
   "cell_type": "code",
   "execution_count": 4,
   "metadata": {},
   "outputs": [],
   "source": [
    "N_exp = 10000\n",
    "N_trials = 20\n",
    "\n",
    "dicerolls = np.random.randint(1,7, size = (N_trials,N_exp))\n",
    "N3 = np.sum(dicerolls == 3, axis = 0)  #true = 1 og false = 0"
   ]
  },
  {
   "cell_type": "markdown",
   "metadata": {},
   "source": [
    "**Function parameters**"
   ]
  },
  {
   "cell_type": "code",
   "execution_count": 5,
   "metadata": {},
   "outputs": [],
   "source": [
    "# Range of outcome:\n",
    "xmin = -0.50001\n",
    "xmax = max(N3)+0.5\n",
    "\n",
    "# Binomial:\n",
    "n = N_trials\n",
    "p = 1/6 \n",
    "sigma = np.sqrt(n*p*(1-p))\n",
    "\n",
    "# Poisson:\n",
    "Lambda = n * p               \n",
    "#sigma = np.sqrt(n*p) \n",
    "\n",
    "# Gaussian:\n",
    "mu = Lambda    "
   ]
  },
  {
   "cell_type": "code",
   "execution_count": 6,
   "metadata": {},
   "outputs": [],
   "source": [
    "xaxis = np.linspace(xmin, xmax, N_exp)\n",
    "yaxis_binom = sw.binomial_pmf(np.floor(xaxis+0.5), n, p) \n",
    "yaxis_poiss = sw.poisson_pmf(np.floor(xaxis+0.5), Lambda)     \n",
    "yaxis_gauss = sw.gaussian_pdf(xaxis, n*p, np.sqrt(n*p*(1-p)))"
   ]
  },
  {
   "cell_type": "markdown",
   "metadata": {},
   "source": [
    "**Plotting the distribution of N3 and the unit Poisson PDF**"
   ]
  },
  {
   "cell_type": "code",
   "execution_count": 7,
   "metadata": {},
   "outputs": [
    {
     "name": "stdout",
     "output_type": "stream",
     "text": [
      "[-0.5  0.5  1.5  2.5  3.5  4.5  5.5  6.5  7.5  8.5  9.5 10.5 11.5]\n"
     ]
    },
    {
     "data": {
      "image/png": "[encoded data removed]",
      "text/plain": [
       "<Figure size 1152x504 with 1 Axes>"
      ]
     },
     "metadata": {
      "needs_background": "light"
     },
     "output_type": "display_data"
    }
   ],
   "source": [
    "bins = np.linspace(-0.5,max(N3)+0.5,max(N3)+2.5)\n",
    "print(bins)\n",
    "#xticks = np.linspace(0,max(N3),max(N3)+2)\n",
    "\n",
    "fig1, ax1 = plt.subplots(figsize=(16, 7)) \n",
    "hist1 = ax1.hist(N3, bins=bins, histtype='bar', color= 'lightskyblue', linewidth=2, density=True, label='Data')\n",
    "ax1.set(xlabel='Numbers of 3s, N3', ylabel='Frequency / bin size?', title='Histogram showing the number of 3s among 20 dice')\n",
    "\n",
    "ax1.plot(xaxis, yaxis_binom, '-', label=f'Binomial with n={n:2d} and p={p:.3f}')\n",
    "#ax1.plot(xaxis, yaxis_poiss, '-', label=f'Poisson with lambda={Lambda:.2f}')\n",
    "#ax1.plot(xaxis, yaxis_gauss, '-', label=f'Gaussian with mu={mu:.2f} and sigma={sigma:.2f}')\n",
    "\n",
    "ax1.legend(loc='upper right', fontsize=14);\n",
    "#ax1.set_xticks(xticks);"
   ]
  },
  {
   "cell_type": "markdown",
   "metadata": {},
   "source": [
    "**What is the probability of getting 7 or more 3s in a roll with 20 normal dice?**"
   ]
  },
  {
   "cell_type": "code",
   "execution_count": 8,
   "metadata": {},
   "outputs": [
    {
     "name": "stdout",
     "output_type": "stream",
     "text": [
      "3.66\n"
     ]
    }
   ],
   "source": [
    "#From simulation (couting)\n",
    "print(np.sum(N3>=7)/len(N3)*100)"
   ]
  },
  {
   "cell_type": "code",
   "execution_count": 9,
   "metadata": {},
   "outputs": [
    {
     "name": "stdout",
     "output_type": "stream",
     "text": [
      "3.66\n"
     ]
    }
   ],
   "source": [
    "#From simulation (integrating)\n",
    "binwidth = len(bins)/(max(N3)+2)        #binwidth = 1\n",
    "print(sum(hist1[0][7:]) * binwidth*100)"
   ]
  },
  {
   "cell_type": "code",
   "execution_count": 10,
   "metadata": {},
   "outputs": [
    {
     "data": {
      "text/plain": [
       "3.7135343038672435"
      ]
     },
     "execution_count": 10,
     "metadata": {},
     "output_type": "execute_result"
    }
   ],
   "source": [
    "#Theoretical\n",
    "sum(sw.binomial_pmf(np.arange(7,21,1),20,1/6))*100"
   ]
  },
  {
   "cell_type": "markdown",
   "metadata": {},
   "source": [
    "### 1.2 COVID19 tests,  4th of January 2021"
   ]
  },
  {
   "cell_type": "markdown",
   "metadata": {},
   "source": [
    "On the 4th of January 2021, the number of Danish Covid-19 tests and positives in 24\n",
    "hours were: PCR: 103261, with 2464 positives and AntiGen: 26162 with 491 positives."
   ]
  },
  {
   "cell_type": "markdown",
   "metadata": {},
   "source": [
    "**Assuming both tests are accurate (i.e. have no errors), what is the fraction of positives in\n",
    "each test? And what is the probability that these fractions are statistically the same?**"
   ]
  },
  {
   "cell_type": "code",
   "execution_count": 11,
   "metadata": {},
   "outputs": [],
   "source": [
    "pcr_total = 103261\n",
    "ag_total = 26162\n",
    "pcr_positive = 2464\n",
    "ag_positive = 491"
   ]
  },
  {
   "cell_type": "code",
   "execution_count": 12,
   "metadata": {},
   "outputs": [
    {
     "name": "stdout",
     "output_type": "stream",
     "text": [
      "pcr fraction 0.023861864595539458 +/- 0.00048071096138874723\n",
      "ag fraction 0.01876767831205565 +/- 0.0008469734655668657\n",
      "5.230801869563491 1.6877632601383696e-07\n"
     ]
    }
   ],
   "source": [
    "pcr_frac = pcr_positive/pcr_total\n",
    "ag_frac = ag_positive/ag_total\n",
    "pcr_sigma = np.sqrt(pcr_positive)/pcr_total\n",
    "ag_sigma = np.sqrt(ag_positive)/ag_total\n",
    "print('pcr fraction',pcr_frac,'+/-',pcr_sigma)\n",
    "print('ag fraction',ag_frac,'+/-',ag_sigma)\n",
    "\n",
    "dmu, dsigma, nsigma, p = sw.compare(pcr_frac, ag_frac, pcr_sigma, ag_sigma)\n",
    "print(nsigma, p)"
   ]
  },
  {
   "cell_type": "markdown",
   "metadata": {},
   "source": [
    "**If the two tests are sampling the same population, what is the false negative rate (i.e. rate\n",
    "of positive testing negative) of the AntiGen test, assuming no other test errors?**"
   ]
  },
  {
   "cell_type": "code",
   "execution_count": null,
   "metadata": {},
   "outputs": [],
   "source": []
  },
  {
   "cell_type": "code",
   "execution_count": 13,
   "metadata": {},
   "outputs": [
    {
     "name": "stdout",
     "output_type": "stream",
     "text": [
      "False negative rate of the AntiGen test: 197300 %\n"
     ]
    }
   ],
   "source": [
    "print('False negative rate of the AntiGen test:',round((pcr_positive-ag_positive)*100,2),'%')"
   ]
  },
  {
   "cell_type": "markdown",
   "metadata": {},
   "source": [
    "**A test has a 0.02% false positive rate and 20% false negative rate. You test 50000 persons,\n",
    "finding 47 positives. What fraction of the Danish population would you estimate are infected?**"
   ]
  },
  {
   "cell_type": "code",
   "execution_count": 14,
   "metadata": {},
   "outputs": [
    {
     "name": "stdout",
     "output_type": "stream",
     "text": [
      "Estimation of infected persons: 10038 persons\n"
     ]
    }
   ],
   "source": [
    "N_total = 50000\n",
    "N_p = 47\n",
    "false_p = 0.0002\n",
    "false_n = 0.20\n",
    "\n",
    "N_estimate = round(N_p + (N_total-N_p)*false_n - N_p*false_p)\n",
    "print('Estimation of infected persons:', N_estimate,'persons')"
   ]
  },
  {
   "cell_type": "code",
   "execution_count": null,
   "metadata": {},
   "outputs": [],
   "source": []
  },
  {
   "cell_type": "markdown",
   "metadata": {},
   "source": [
    "### 1.3 Voltage peaks"
   ]
  },
  {
   "cell_type": "code",
   "execution_count": 15,
   "metadata": {},
   "outputs": [],
   "source": [
    "data = np.genfromtxt('data_VoltagePeaks.txt')"
   ]
  },
  {
   "cell_type": "code",
   "execution_count": 16,
   "metadata": {},
   "outputs": [
    {
     "data": {
      "text/plain": [
       "(1, 1000)"
      ]
     },
     "execution_count": 16,
     "metadata": {},
     "output_type": "execute_result"
    },
    {
     "data": {
      "image/png": "[encoded data removed]",
      "text/plain": [
       "<Figure size 1008x576 with 1 Axes>"
      ]
     },
     "metadata": {
      "needs_background": "light"
     },
     "output_type": "display_data"
    }
   ],
   "source": [
    "_, bins = np.histogram(np.log10(data + 1), bins='auto')\n",
    "\n",
    "plt.figure(figsize=(14,8))\n",
    "plt.hist(data, bins=10**bins, range=(0,1000));\n",
    "plt.gca().set_xscale(\"log\")\n",
    "plt.xlim(1,1000)"
   ]
  },
  {
   "cell_type": "code",
   "execution_count": null,
   "metadata": {},
   "outputs": [],
   "source": [
    "x = np.linspace(0,len(data),len(data))\n",
    "\n",
    "thres = 0.05\n",
    "y_peaks = data[np.where(data>thres)]\n",
    "x_peaks = x[np.where(data>thres)]\n",
    "\n",
    "plt.figure(figsize=(14,6))\n",
    "plt.plot(x,data)\n",
    "plt.plot(x_peaks,y_peaks,'o',color='red')\n",
    "plt.ylabel('Relative voltage',fontsize=14)\n",
    "\n",
    "for x,y in zip(x_peaks,y_peaks):\n",
    "\n",
    "    label = \"{:.2f}\".format(y)\n",
    "\n",
    "    plt.annotate(label, #label\n",
    "                 (x,y), #coordinates to position the label\n",
    "                 textcoords=\"offset points\", #how to position the text\n",
    "                 xytext=(0,10), #distance from text to points (x,y)\n",
    "                 ha='center') #horizontal alignment can be left, right or center\n",
    "\n",
    "\n",
    "plt.tight_layout();"
   ]
  },
  {
   "cell_type": "markdown",
   "metadata": {},
   "source": [
    "## II - Error propagation"
   ]
  },
  {
   "cell_type": "markdown",
   "metadata": {},
   "source": [
    "### 2.1 Law of error propagation"
   ]
  },
  {
   "cell_type": "code",
   "execution_count": null,
   "metadata": {},
   "outputs": [],
   "source": [
    "x1 = ufloat(1.96, 0.03)\n",
    "x2 = ufloat(0.96, 0.03)\n",
    "\n",
    "x = [x1,x2]\n",
    "\n",
    "for i in x:\n",
    "    y = 1/(1+i**2)\n",
    "    z = 1/(1-i)**2\n",
    "    y_ = 'y = {:.2uf}'.format(y)\n",
    "    z_ = 'z = {:.2uf}'.format(z)\n",
    "    print(y_,z_)\n"
   ]
  },
  {
   "cell_type": "markdown",
   "metadata": {},
   "source": [
    "#### **Students in a statistics class have measured the gravitational acceleration g**"
   ]
  },
  {
   "cell_type": "code",
   "execution_count": null,
   "metadata": {},
   "outputs": [],
   "source": [
    "g_obs = np.array([9.54,9.36,10.02,9.87,9.98,9.86,9.86,9.81,9.79])\n",
    "g_sigma = np.array([0.15,0.10,0.11,0.08,0.14,0.06,0.03,0.13,0.04])"
   ]
  },
  {
   "cell_type": "markdown",
   "metadata": {},
   "source": [
    "**Assuming independent measurements, what is the best estimate of g and its uncertainty?**"
   ]
  },
  {
   "cell_type": "code",
   "execution_count": null,
   "metadata": {},
   "outputs": [],
   "source": [
    "g_mean, g_mean_sigma = sw.weightedmean(g_obs,g_sigma)"
   ]
  },
  {
   "cell_type": "markdown",
   "metadata": {},
   "source": [
    "**What is the χ2 and its p-value? Do you find any measurements to be unlikely?**"
   ]
  },
  {
   "cell_type": "code",
   "execution_count": null,
   "metadata": {},
   "outputs": [],
   "source": [
    "reload(sw);"
   ]
  },
  {
   "cell_type": "code",
   "execution_count": null,
   "metadata": {},
   "outputs": [],
   "source": [
    "g_exp = 9.815 \n",
    "sw.chisquare(g_exp, g_obs, g_sigma, 1)"
   ]
  },
  {
   "cell_type": "code",
   "execution_count": null,
   "metadata": {},
   "outputs": [],
   "source": [
    "def confunc(x,b):\n",
    "    return b*np.ones_like(x)\n",
    "    \n",
    "x = np.linspace(1,len(g_obs),len(g_obs))\n",
    "sw.chisquarefit(x, g_obs, g_sigma, confunc, [9.82], plot=True)"
   ]
  },
  {
   "cell_type": "markdown",
   "metadata": {},
   "source": [
    "**Does your best estimate of g agree with the precision measurement 9.8158 ± 0.0001 m/s2**"
   ]
  },
  {
   "cell_type": "code",
   "execution_count": null,
   "metadata": {},
   "outputs": [],
   "source": [
    "g_precise = 9.8158\n",
    "g_precise_sigma = 0.0001"
   ]
  },
  {
   "cell_type": "code",
   "execution_count": null,
   "metadata": {},
   "outputs": [],
   "source": [
    "sw.compare(g_mean, g_precise, g_mean_sigma, g_precise_sigma)"
   ]
  },
  {
   "cell_type": "markdown",
   "metadata": {},
   "source": [
    "## II - Monte Carlo"
   ]
  },
  {
   "cell_type": "markdown",
   "metadata": {},
   "source": [
    "### 3.1 Let u be the sum of 4 exponentially distributed numbers t, with PDF $f(t) = \\frac{1}{\\tau} exp(-t/\\tau)$ for $t \\epsilon [0, \\infty[$. Let $\\tau = 0.08$. "
   ]
  },
  {
   "cell_type": "markdown",
   "metadata": {},
   "source": [
    "**Generate 10000 values of u and plot these.**"
   ]
  },
  {
   "cell_type": "code",
   "execution_count": null,
   "metadata": {},
   "outputs": [],
   "source": [
    "N_total = 10000\n",
    "n = 4\n",
    "tau = 0.08\n",
    "\n",
    "t = np.random.exponential(scale=tau,size=(n,N_total))\n",
    "u = np.sum(t, axis = 0)  \n",
    "\n",
    "xmin, xmax = -0.5, max(u)\n",
    "N_points = N_total\n",
    "N_bins = int(np.sqrt(N_points))\n",
    "\n",
    "sw.plot_hist(u, xmin, xmax, N_points, N_bins);"
   ]
  },
  {
   "cell_type": "markdown",
   "metadata": {},
   "source": [
    "**Try to fit the distribution of u with a Gaussian and comment on the result**"
   ]
  },
  {
   "cell_type": "code",
   "execution_count": null,
   "metadata": {},
   "outputs": [],
   "source": [
    "mu, sigma = u.mean(), u.std()\n",
    "sw.chisquarefit_histogram(u, sw.gaussian_pdf, [mu, sigma], xmin, xmax, N_bins, plot=True)"
   ]
  },
  {
   "cell_type": "markdown",
   "metadata": {},
   "source": [
    "**Try other functional forms to see how well you can match the distribution of u**"
   ]
  },
  {
   "cell_type": "code",
   "execution_count": null,
   "metadata": {},
   "outputs": [],
   "source": [
    "xmin0, xmax0 = 0, 1.25\n",
    "k = 4\n",
    "\n",
    "def erlang(x,k,beta):\n",
    "    return x**(k-1)*np.exp(-x/beta)/(beta**k*math.factorial(int(k-1)))\n",
    "\n",
    "sw.chisquarefit_histogram(u, erlang, [k, tau], xmin0, xmax0, N_bins, plot=True)"
   ]
  },
  {
   "cell_type": "code",
   "execution_count": null,
   "metadata": {},
   "outputs": [],
   "source": [
    "#fig, ax = plt.subplots(nrows=1, ncols=3, figsize=(14,10))\n",
    "#sw.plot_hist(u, xmin, xmax, N_points, N_bins)\n",
    "\n",
    "#ax[2] = sw.chisquarefit_histogram(u, erlang, [k, tau], xmin0, xmax0, N_bins, plot=True)\n",
    "\n"
   ]
  },
  {
   "cell_type": "markdown",
   "metadata": {},
   "source": [
    "###  3.2 Let x follow the PDF f(x) = $C x exp(−x)$ for $x \\epsilon [0, \\infty[$"
   ]
  },
  {
   "cell_type": "markdown",
   "metadata": {},
   "source": [
    "**Generate 1000 values of x, plot these, and determine the median of your x values**"
   ]
  },
  {
   "cell_type": "code",
   "execution_count": null,
   "metadata": {},
   "outputs": [],
   "source": [
    "xmin32, xmax32 = 0, 15\n",
    "c = 1\n",
    "\n",
    "def fx_xexp(x):\n",
    "    return c*x*np.exp(-x)\n",
    "\n",
    "def fx_xexp_fit(x,a,b,d):\n",
    "    return a*c*x*np.exp(-b*x)+d\n",
    "\n",
    "x_accepted, eff = sw.acceptandreject(fx_xexp, xmin32, xmax32, N_points, N_bins)\n",
    "print('eff =',eff)\n",
    "sw.plot_histandfunc(x_accepted, fx_xexp, xmin32, xmax32, N_points, N_bins)\n",
    "sw.chisquarefit_histogram(x_accepted, fx_xexp_fit, [1,1,0], xmin32, xmax32, N_bins, plot=True, verbose=True)"
   ]
  },
  {
   "cell_type": "code",
   "execution_count": null,
   "metadata": {},
   "outputs": [],
   "source": []
  },
  {
   "cell_type": "code",
   "execution_count": null,
   "metadata": {},
   "outputs": [],
   "source": [
    "# Define smart function\n",
    "\n",
    "c = 1\n",
    "\n",
    "def fx_xexp(x):\n",
    "    return c*x*np.exp(-x)\n",
    "\n",
    "def fx_xexp_smart(x):\n",
    "    return np.exp(-x/1.7)\n"
   ]
  },
  {
   "cell_type": "code",
   "execution_count": null,
   "metadata": {},
   "outputs": [],
   "source": [
    "# Plot smart function\n",
    "lam = 1/1.7\n",
    "\n",
    "xaxis = np.linspace(0,20,1000)\n",
    "y_func = fx_xexp(xaxis)\n",
    "y_smartfunc = fx_xexp_smart(xaxis)\n",
    "plt.plot(xaxis,y_func,label='func')\n",
    "plt.plot(xaxis,y_smartfunc,label='smart')\n",
    "plt.legend()"
   ]
  },
  {
   "cell_type": "code",
   "execution_count": null,
   "metadata": {},
   "outputs": [],
   "source": []
  },
  {
   "cell_type": "code",
   "execution_count": null,
   "metadata": {},
   "outputs": [],
   "source": [
    "def smart_box(func, funcsmart, plot = False):\n",
    "    x = np.linspace(0,15,1000)\n",
    "\n",
    "    N = 100000\n",
    "    N_accept = 0  \n",
    "    N_reject = 0 \n",
    "    x_accept = np.zeros(N)  \n",
    "    \n",
    "    while N_accept < N:\n",
    "        r1 = np.random.random()\n",
    "        x1 = -np.log(r1)*1.7\n",
    "        y1 = np.random.random()*funcsmart(x1)\n",
    "        if (y1 < func(x1)):        \n",
    "            x_accept[N_accept] = x1\n",
    "            N_accept += 1\n",
    "        if (y1 > func(x1)):        \n",
    "            N_reject+=1\n",
    "            \n",
    "    eff = N/(N+N_reject)  #N_accept = N \n",
    "\n",
    "    if plot == True:\n",
    "        fig, ax = plt.subplots(figsize=(12, 6))\n",
    "        hist_trans = ax.hist(x_accept, bins=100, histtype='step', label='Histogram', density=True)\n",
    "\n",
    "        d = {'Entries': len(x_accept),\n",
    "             'Mean': x_accept.mean(),\n",
    "             'Std': x_accept.std(ddof=1),\n",
    "             'Median': np.median(x_accept)\n",
    "             }\n",
    "\n",
    "        text = nice_string_output(d, extra_spacing=2, decimals=3)\n",
    "        add_text_to_ax(0.05, 0.95, text, ax, fontsize=14)\n",
    "\n",
    "        ax.legend(loc='best')\n",
    "        fig.tight_layout()  \n",
    "        plt.xlabel(\"Length [m]\")\n",
    "        plt.ylabel(\"PDF value\")\n",
    "        plt.show()\n",
    "    \n",
    "    return x_accept, eff\n",
    "    "
   ]
  },
  {
   "cell_type": "code",
   "execution_count": null,
   "metadata": {},
   "outputs": [],
   "source": [
    "x, eff = smart_box(fx_xexp, fx_xexp_smart, plot = True)\n",
    "print(eff)"
   ]
  },
  {
   "cell_type": "code",
   "execution_count": null,
   "metadata": {},
   "outputs": [],
   "source": [
    "np.median(x)"
   ]
  },
  {
   "cell_type": "markdown",
   "metadata": {},
   "source": [
    "Usikkerhed på median? https://physics.stackexchange.com/questions/292871/uncertainty-propagation-upon-taking-the-median"
   ]
  },
  {
   "cell_type": "code",
   "execution_count": null,
   "metadata": {},
   "outputs": [],
   "source": [
    "sw.plot_histandfunc(x, fx_xexp, xmin32, xmax32, N_points, N_bins)\n",
    "sw.chisquarefit_histogram(x, fx_xexp_fit, [1,1,0], xmin32, xmax32, N_bins, plot=True, verbose=True)"
   ]
  },
  {
   "cell_type": "code",
   "execution_count": null,
   "metadata": {},
   "outputs": [],
   "source": []
  },
  {
   "cell_type": "code",
   "execution_count": null,
   "metadata": {},
   "outputs": [],
   "source": []
  },
  {
   "cell_type": "markdown",
   "metadata": {},
   "source": [
    "# Statistical tests"
   ]
  },
  {
   "cell_type": "markdown",
   "metadata": {},
   "source": [
    "###  4.1 In an observer-blinded study, 21720 persons were given two doses of the Covid-19 vaccine candidate BNT162b2 and 21728 persons two doses of placebo."
   ]
  },
  {
   "cell_type": "markdown",
   "metadata": {},
   "source": [
    "**In this study, the total number of Covid-19 cases were Nvaccine = 8 among participants\n",
    "who received BNT162b2 and Nplacebo = 162 among those recieving the placebo. What is\n",
    "(approximately) the probability that BNT162b2 has no effect on being infected?**"
   ]
  },
  {
   "cell_type": "code",
   "execution_count": null,
   "metadata": {},
   "outputs": [],
   "source": [
    "Nv_total = 21720\n",
    "Np_total = 21728\n",
    "Nv_pos = 8\n",
    "Np_pos = 162"
   ]
  },
  {
   "cell_type": "code",
   "execution_count": null,
   "metadata": {},
   "outputs": [],
   "source": [
    "# Positive fraction\n",
    "Nv_frac = Nv_pos/Nv_total \n",
    "Np_frac = Np_pos/Np_total\n",
    "\n",
    "# Uncertainty on positive fraction (error propagation and Poisson uncertainty)\n",
    "Nv_frac_sigma = np.sqrt(Nv_pos)/Nv_total\n",
    "Np_frac_sigma = np.sqrt(Np_pos)/Np_total\n",
    "\n",
    "# Compare numbers \n",
    "dmu, dsigma, nsigma, p = sw.compare(Nv_frac,Np_frac,Nv_frac_sigma,Np_frac_sigma)\n",
    "\n",
    "print(nsigma, p)"
   ]
  },
  {
   "cell_type": "markdown",
   "metadata": {},
   "source": [
    "**Based on the total number of Covid-19 cases above, calculate a 68% confidence interval of\n",
    "the BNT162b2 vaccine efficacy, $\\epsilon$ = (Nplacebo − Nvaccine)/Nplacebo**"
   ]
  },
  {
   "cell_type": "code",
   "execution_count": null,
   "metadata": {},
   "outputs": [],
   "source": [
    "from sympy.abc import p, v"
   ]
  },
  {
   "cell_type": "code",
   "execution_count": null,
   "metadata": {},
   "outputs": [],
   "source": [
    "v_eff = (Np_pos - Nv_pos)/Np_pos\n",
    "v_eff_sigma = sw.ophob((p-v)/p,[v,p],[Nv_pos, Np_pos],[np.sqrt(Nv_pos),np.sqrt(Np_pos)])\n",
    "\n",
    "c_int = [v_eff-v_eff_sigma,v_eff+v_eff_sigma]\n",
    "print(c_int)\n"
   ]
  },
  {
   "cell_type": "markdown",
   "metadata": {},
   "source": [
    "**In the study, there were 10 severe Covid-19 cases, out of which 9 were in the placebo group.\n",
    "With only this data, what would then be the probability that BNT162b2 had no effect?**"
   ]
  },
  {
   "cell_type": "code",
   "execution_count": null,
   "metadata": {},
   "outputs": [],
   "source": [
    "Nv_pos = 1\n",
    "Np_pos = 9\n",
    "\n",
    "# Positive fraction\n",
    "Nv_frac = Nv_pos/Nv_total \n",
    "Np_frac = Np_pos/Np_total\n",
    "\n",
    "# Uncertainty on positive fraction (error propagation and Poisson uncertainty)\n",
    "Nv_frac_sigma = np.sqrt(Nv_pos)/Nv_total\n",
    "Np_frac_sigma = np.sqrt(Np_pos)/Np_total\n",
    "\n",
    "# Compare numbers \n",
    "dmu, dsigma, nsigma, p = sw.compare(Nv_frac,Np_frac,Nv_frac_sigma,Np_frac_sigma)\n",
    "\n",
    "print(nsigma, p)\n",
    "\n",
    "from sympy.abc import p, v\n",
    "v_eff = (Np_pos - Nv_pos)/Np_pos\n",
    "v_eff_sigma = sw.ophob((p-v)/p,[v,p],[Nv_pos, Np_pos],[np.sqrt(Nv_pos),np.sqrt(Np_pos)])\n",
    "\n",
    "c_int = [v_eff-v_eff_sigma,v_eff+v_eff_sigma]\n",
    "print(c_int)"
   ]
  },
  {
   "cell_type": "code",
   "execution_count": null,
   "metadata": {},
   "outputs": [],
   "source": []
  },
  {
   "cell_type": "markdown",
   "metadata": {},
   "source": [
    "### 4.2 Deck of cards"
   ]
  },
  {
   "cell_type": "markdown",
   "metadata": {},
   "source": [
    "**Drawing 4 cards with replacement, what distribution does the number of aces follow? What\n",
    "is the chance of getting 3 aces or more?**"
   ]
  },
  {
   "cell_type": "code",
   "execution_count": null,
   "metadata": {},
   "outputs": [],
   "source": [
    "N_exp = 1000000\n",
    "N_trials = 4\n",
    "\n",
    "drawcard = np.random.randint(2,15, size = (N_trials,N_exp))\n",
    "Nace = np.sum(drawcard == 14, axis = 0)  "
   ]
  },
  {
   "cell_type": "code",
   "execution_count": null,
   "metadata": {},
   "outputs": [],
   "source": [
    "# Range of outcome:\n",
    "xmin = -0.50001\n",
    "xmax = max(Nace)+0.5\n",
    "\n",
    "# Binomial:\n",
    "n = N_trials\n",
    "p = 1/14\n",
    "sigma = np.sqrt(n*p*(1-p))\n",
    "\n",
    "xaxis = np.linspace(xmin, xmax, N_exp)\n",
    "yaxis_binom = sw.binomial_pmf(np.floor(xaxis+0.5), n, p) "
   ]
  },
  {
   "cell_type": "code",
   "execution_count": null,
   "metadata": {},
   "outputs": [],
   "source": [
    "bins = np.linspace(-0.5,max(Nace)+0.5,max(Nace)+2.5)\n",
    "\n",
    "fig41, ax41 = plt.subplots(figsize=(16, 7)) \n",
    "hist41 = ax41.hist(Nace, bins=bins, histtype='bar', color= 'lightskyblue', linewidth=2, density=True, label='Data')\n",
    "\n",
    "ax41.set(xlabel='Numbers of aces', ylabel='Frequency / bin size?', title='The number of aces among 4 randomly drawn cards WITH replacement')\n",
    "ax41.plot(xaxis, yaxis_binom, '-', label=f'Binomial with n={n:2d} and p={p:.3f}')\n",
    "ax41.legend(loc='upper right', fontsize=14);"
   ]
  },
  {
   "cell_type": "code",
   "execution_count": null,
   "metadata": {},
   "outputs": [],
   "source": [
    "#From simulation (couting)\n",
    "print(np.sum(Nace>=3)/len(Nace))\n",
    "\n",
    "#From simulation (integrating)\n",
    "binwidth = len(bins)/(max(Nace)+2)        #binwidth = 1\n",
    "print(sum(hist41[0][3:]) * binwidth)\n",
    "\n",
    "#Theoretical\n",
    "print(sum(sw.binomial_pmf([3,4],4,1/14)))"
   ]
  },
  {
   "cell_type": "markdown",
   "metadata": {},
   "source": [
    "**Drawing 4 cards without replacement, what is the probability of getting 3 aces or more?**"
   ]
  },
  {
   "cell_type": "markdown",
   "metadata": {},
   "source": [
    "The binomial distribution is frequently used to model the number of successes in a sample of size n drawn with replacement from a population of size N. If the sampling is carried out without replacement, the draws are not independent and so the resulting distribution is a hypergeometric distribution, not a binomial one. "
   ]
  },
  {
   "cell_type": "code",
   "execution_count": null,
   "metadata": {},
   "outputs": [],
   "source": [
    "cards = np.array(list(np.linspace(2,14,13))*4)"
   ]
  },
  {
   "cell_type": "code",
   "execution_count": null,
   "metadata": {},
   "outputs": [],
   "source": [
    "drawcard_wo = []\n",
    "\n",
    "for _ in range(10000):\n",
    "     drawcard_wo.append(np.random.choice(cards, size = (N_trials), replace = False))\n",
    "\n",
    "\n",
    "drawcard_wo = np.array(drawcard_wo)\n",
    "Nace_wo = np.sum(drawcards == 14, axis = 1)  \n"
   ]
  },
  {
   "cell_type": "code",
   "execution_count": null,
   "metadata": {},
   "outputs": [],
   "source": [
    "bins = np.linspace(-0.5,max(Nace_wo)+0.5,max(Nace_wo)+2.5)\n",
    "\n",
    "fig1, ax1 = plt.subplots(figsize=(16, 7)) \n",
    "hist_wo = ax1.hist(Nace_wo, bins=bins, histtype='step', linewidth=2, density=True, label='Without replacement')\n",
    "hist_w = ax1.hist(Nace, bins=bins, histtype='step', linewidth=2, density=True, label='With replacement')\n",
    "\n",
    "\n",
    "ax1.set(xlabel='Numbers of aces', ylabel='Frequency / bin size?', title='The number of aces among 4 randomly drawn cards with and without replacement')\n",
    "#ax1.plot(xaxis, yaxis_binom, '-', label=f'Binomial with n={n:2d} and p={p:.3f}')\n",
    "#ax1.plot(xaxis, yaxis_poiss, '-', label=f'Poisson with lambda={Lambda:.2f}')\n",
    "ax1.legend(loc='upper right', fontsize=14);"
   ]
  },
  {
   "cell_type": "code",
   "execution_count": null,
   "metadata": {},
   "outputs": [],
   "source": [
    "aces = np.array([[4/52, 3/51, 2/50, 1],\n",
    "                [4/52, 3/51, 1, 2/49],\n",
    "                [4/52, 1, 3/50, 2/49],\n",
    "                [1, 4/51, 3/50, 2/49],\n",
    "                [4/52, 3/51, 2/50, 1/49]])\n",
    "  \n",
    "p3aces = np.prod(aces, axis=1)\n",
    "sum(p3aces)"
   ]
  },
  {
   "cell_type": "code",
   "execution_count": null,
   "metadata": {},
   "outputs": [],
   "source": []
  },
  {
   "cell_type": "code",
   "execution_count": null,
   "metadata": {},
   "outputs": [],
   "source": []
  },
  {
   "cell_type": "markdown",
   "metadata": {},
   "source": [
    "**Are the cards are well shuffled? Perform at least one hypothesis test to check**"
   ]
  },
  {
   "cell_type": "code",
   "execution_count": null,
   "metadata": {},
   "outputs": [],
   "source": [
    "shuffled_cards = np.genfromtxt('data_ShuffledCards.txt', skip_header=2, usecols=(0,4,5))"
   ]
  },
  {
   "cell_type": "code",
   "execution_count": null,
   "metadata": {},
   "outputs": [],
   "source": [
    "number = shuffled_cards[:,0]\n",
    "value = shuffled_cards[:,1]\n",
    "suit = shuffled_cards[:,2]"
   ]
  },
  {
   "cell_type": "markdown",
   "metadata": {},
   "source": [
    "Suits in the first and second half of the decks"
   ]
  },
  {
   "cell_type": "code",
   "execution_count": null,
   "metadata": {},
   "outputs": [],
   "source": [
    "bins = np.linspace(0.5,4.5,5)\n",
    "\n",
    "fig, ax = plt.subplots(nrows=1, ncols=2, figsize=(14,4))\n",
    "ax[0].hist(suit[:26], bins=bins, label = 'Suits, first half')\n",
    "ax[1].hist(suit[26:], bins=bins, label = 'Suits, second half');"
   ]
  },
  {
   "cell_type": "code",
   "execution_count": null,
   "metadata": {},
   "outputs": [],
   "source": [
    "# Probability of avoiding a suit when drawing 26 cards\n",
    "\n",
    "prod = 1\n",
    "\n",
    "for i in range(26):\n",
    "    prod *= (52.-13-i)/(52-i)\n",
    "\n",
    "prod*4 # Multiply with four because it is subordinate which suit it is\n"
   ]
  },
  {
   "cell_type": "code",
   "execution_count": null,
   "metadata": {},
   "outputs": [],
   "source": [
    "print(sum(value[:26] >= 11),sum(value[26:] >= 11))"
   ]
  },
  {
   "cell_type": "markdown",
   "metadata": {},
   "source": [
    "Numbers of picture cards and aces in the first and second half"
   ]
  },
  {
   "cell_type": "code",
   "execution_count": null,
   "metadata": {},
   "outputs": [],
   "source": [
    "pic_first = sum(value[:26] >= 11)\n",
    "pic_second = sum(value[26:] >= 11)\n",
    "\n",
    "n_sigma = abs((pic_first - 8) / np.sqrt(52*4/14*(1-4/14))) # n = 52, p = 4/14\n",
    "p = 1-stats.norm.cdf(-n_sigma,0)*2\n",
    "\n",
    "print(n_sigma, p) #spørg jonathan om "
   ]
  },
  {
   "cell_type": "code",
   "execution_count": null,
   "metadata": {},
   "outputs": [],
   "source": [
    "stats.norm.cdf(-0.3,0)*2"
   ]
  },
  {
   "cell_type": "markdown",
   "metadata": {},
   "source": [
    "Even and odd in first and second half <br>\n",
    "In total there are 28 even cards and 24 uneven cards"
   ]
  },
  {
   "cell_type": "code",
   "execution_count": null,
   "metadata": {},
   "outputs": [],
   "source": [
    "fig, ax = plt.subplots(nrows=1, ncols=2, figsize=(10, 4))\n",
    "ax = ax.flatten()\n",
    "\n",
    "hist_oe1 = ax[0].hist(value[:26] % 2, bins=2, histtype='step', range=(-0.5, 1.5), linewidth=2)\n",
    "hist_oe2 = ax[1].hist(value[26:] % 2, bins=2, histtype='step', range=(-0.5, 1.5), linewidth=2)\n",
    "fig.tight_layout()\n",
    "\n",
    "#Even cards in the first half\n",
    "n_sigma = abs((hist_oe1[0][0] - 14) / np.sqrt(52*14/26*(1-14/26)))   # p = 14/26 \n",
    "p = stats.norm.cdf(-n_sigma,0)*2\n",
    "\n",
    "print(n_sigma, p) #spørg jonathan om p værdi\n"
   ]
  },
  {
   "cell_type": "code",
   "execution_count": null,
   "metadata": {},
   "outputs": [],
   "source": []
  },
  {
   "cell_type": "code",
   "execution_count": null,
   "metadata": {},
   "outputs": [],
   "source": []
  },
  {
   "cell_type": "markdown",
   "metadata": {},
   "source": [
    "# Fitting Data"
   ]
  },
  {
   "cell_type": "markdown",
   "metadata": {},
   "source": [
    "The cumulative solar power capacity (in MegaWatts) and price of solar power ($/W)\n",
    "from 1976-2019 "
   ]
  },
  {
   "cell_type": "markdown",
   "metadata": {},
   "source": [
    "**Plot the price of solar power as a function of cumulative solar power capacity**"
   ]
  },
  {
   "cell_type": "markdown",
   "metadata": {},
   "source": [
    "The power law function is also plotted just to estimate good start parameters in the next task"
   ]
  },
  {
   "cell_type": "code",
   "execution_count": null,
   "metadata": {},
   "outputs": [],
   "source": [
    "solarpower = np.genfromtxt('data_SolarPower.txt', skip_header=2) #usecols=(0,4,5)\n",
    "year, cumcap, price = solarpower[:,0], solarpower[:,1], solarpower[:,2]"
   ]
  },
  {
   "cell_type": "code",
   "execution_count": null,
   "metadata": {},
   "outputs": [],
   "source": [
    "fig, ax = plt.subplots(figsize=(8,4))\n",
    "\n",
    "ax.plot(cumcap,price,'.')\n",
    "ax.plot(x,y)\n",
    "ax.set(xlabel='Cumulative solar power capacity [MW]', ylabel='Price [$/W]', title='Year 1976-2019')\n",
    "#ax.set_yscale('log')\n",
    "ax.set_xscale('log')\n",
    "plt.tight_layout()"
   ]
  },
  {
   "cell_type": "markdown",
   "metadata": {},
   "source": [
    "**Assuming a relative price uncertainty of 15%, fit the data with a power law: $f(x) = ax^{-b}$**"
   ]
  },
  {
   "cell_type": "code",
   "execution_count": null,
   "metadata": {},
   "outputs": [],
   "source": [
    "def powerlawfit(x,a,b):\n",
    "    return a*x**(-b)\n",
    "\n",
    "x = np.linspace(min(cumcap),max(cumcap),10**6)\n",
    "y = powerlawfit(x,70,0.4)"
   ]
  },
  {
   "cell_type": "code",
   "execution_count": null,
   "metadata": {},
   "outputs": [],
   "source": [
    "def chisquarefit(x, y, ysigma, fitfunction, startparameters, plot=False):\n",
    "    'Chi-square fit'\n",
    "    chi2fit = Chi2Regression(fitfunction, x, y, ysigma)\n",
    "    minuit_chi2 = Minuit(chi2fit, *startparameters)\n",
    "    minuit_chi2.errordef = 1.0     \n",
    "    minuit_chi2.migrad()\n",
    "    \n",
    "    'Parameters and uncertainties'\n",
    "    par = minuit_chi2.values[:]   \n",
    "    par_err = minuit_chi2.errors[:]\n",
    "    \n",
    "    'Chi-square value, number of degress of freedom and probability'\n",
    "    chi2_value = minuit_chi2.fval \n",
    "    Ndof_value = len(x)-len(par)\n",
    "    chi2_prob = stats.chi2.sf(chi2_value, Ndof_value)\n",
    "    \n",
    "    'Plotting'\n",
    "    if plot==True:\n",
    "        x_axis = np.linspace(min(x), max(x), 1000)\n",
    "        \n",
    "        d = {'Chi2':     chi2_value,\n",
    "             'Ndof':     Ndof_value,\n",
    "             'Prob':     chi2_prob,\n",
    "            }\n",
    "            \n",
    "        fig, ax = plt.subplots(figsize=(14,10))\n",
    "        ax.plot(x, y, 'k.', label='X')\n",
    "        ax.plot(x_axis, fitfunction(x_axis, *minuit_chi2.values[:]), '-r', label='Chi2 fit model result') \n",
    "        ax.set(xlabel='X', ylabel='X', title='X')\n",
    "        ax.set_xscale('log')\n",
    "        ax.set_yscale('log')\n",
    "        ax.errorbar(x, y, ysigma, fmt='ro', ecolor='k', elinewidth=2, capsize=2, capthick=1)\n",
    "        text = nice_string_output(d, extra_spacing=2, decimals=3)\n",
    "        add_text_to_ax(0.80, 0.95, text, ax, fontsize=14)\n",
    "    \n",
    "    return chi2_value, Ndof_value, chi2_prob, par, par_err"
   ]
  },
  {
   "cell_type": "code",
   "execution_count": null,
   "metadata": {},
   "outputs": [],
   "source": [
    "price_sigma = price*0.15"
   ]
  },
  {
   "cell_type": "code",
   "execution_count": null,
   "metadata": {},
   "outputs": [],
   "source": [
    "chisquarefit(cumcap, price, price_sigma, powerlawfit, [100,0.2], plot=True)"
   ]
  },
  {
   "cell_type": "markdown",
   "metadata": {},
   "source": [
    "**Fit the cumulative solar power capacity as a function of year, and determine when you expect it to reach a million MW. What do you estimate the price per W to be then?**"
   ]
  },
  {
   "cell_type": "code",
   "execution_count": null,
   "metadata": {},
   "outputs": [],
   "source": [
    "year = year-min(year)\n",
    "\n",
    "def fit(x,a,b,c,d,e):\n",
    "    return a*np.exp(b*x + c*np.cos(d*x+e)) #\n",
    "\n",
    "\n",
    "\n",
    "def exp(x,a,b):\n",
    "    return a*np.exp(x*b)\n",
    "\n",
    "\n",
    "\n",
    "xfit = np.linspace(min(year),max(year),1000)\n",
    "yfit = fit(xfit,min(price),1.39,1,1,0)\n",
    "#yexp = exp(xfit, min(price),0.33)\n",
    "\n",
    "    "
   ]
  },
  {
   "cell_type": "code",
   "execution_count": null,
   "metadata": {},
   "outputs": [],
   "source": [
    "fig, ax = plt.subplots(figsize=(8,4))\n",
    "\n",
    "ax.plot(year,cumcap,'.')\n",
    "ax.plot(xfit,yfit)\n",
    "#ax.plot(xfit,yexp)\n",
    "\n",
    "ax.set(xlabel='Year', ylabel='Cumulative solar power capacity [MW]', title='Year 1976-2019')\n",
    "#ax.set_yscale('log')\n",
    "#ax.set_xscale('log')\n",
    "plt.tight_layout()"
   ]
  },
  {
   "cell_type": "code",
   "execution_count": null,
   "metadata": {},
   "outputs": [],
   "source": [
    "def chisquarefit2(x, y, ysigma, fitfunction, startparameters, plot=False):\n",
    "    'Chi-square fit'\n",
    "    chi2fit = Chi2Regression(fitfunction, x, y, ysigma)\n",
    "    minuit_chi2 = Minuit(chi2fit, *startparameters)\n",
    "    minuit_chi2.errordef = 1.0     \n",
    "    minuit_chi2.migrad()\n",
    "    \n",
    "    'Parameters and uncertainties'\n",
    "    par = minuit_chi2.values[:]   \n",
    "    par_err = minuit_chi2.errors[:]\n",
    "    \n",
    "    'Chi-square value, number of degress of freedom and probability'\n",
    "    chi2_value = minuit_chi2.fval \n",
    "    Ndof_value = len(x)-len(par)\n",
    "    chi2_prob = stats.chi2.sf(chi2_value, Ndof_value)\n",
    "    \n",
    "    'Plotting'\n",
    "    if plot==True:\n",
    "        x_axis = np.linspace(min(x), max(x), 1000)\n",
    "        \n",
    "        d = {'Chi2':     chi2_value,\n",
    "             'Ndof':     Ndof_value,\n",
    "             'Prob':     chi2_prob,\n",
    "            }\n",
    "            \n",
    "        fig, ax = plt.subplots(figsize=(14,10))\n",
    "        ax.plot(x, y, 'k.', label='X')\n",
    "        ax.plot(x_axis, fitfunction(x_axis, *minuit_chi2.values[:]), '-r', label='Chi2 fit model result') \n",
    "        ax.set(xlabel='X', ylabel='X', title='X')\n",
    "        #ax.set_xscale('log')\n",
    "        #ax.set_yscale('log')\n",
    "        ax.errorbar(x, y, ysigma, fmt='ro', ecolor='k', elinewidth=2, capsize=2, capthick=1)\n",
    "        text = nice_string_output(d, extra_spacing=2, decimals=3)\n",
    "        add_text_to_ax(0.80, 0.95, text, ax, fontsize=14)\n",
    "    \n",
    "    return chi2_value, Ndof_value, chi2_prob, par, par_err"
   ]
  },
  {
   "cell_type": "code",
   "execution_count": null,
   "metadata": {},
   "outputs": [],
   "source": [
    "def fit(x,a,b):\n",
    "    return a*x**b"
   ]
  },
  {
   "cell_type": "code",
   "execution_count": null,
   "metadata": {},
   "outputs": [],
   "source": [
    "cumcap_sigma  = [1]*len(cumcap_sigma)\n",
    "chisquarefit2(year, cumcap, cumcap_sigma, fit, [min(price),1.39], plot=True)"
   ]
  },
  {
   "cell_type": "code",
   "execution_count": null,
   "metadata": {},
   "outputs": [],
   "source": []
  },
  {
   "cell_type": "markdown",
   "metadata": {},
   "source": [
    "### 5.2 "
   ]
  },
  {
   "cell_type": "markdown",
   "metadata": {},
   "source": [
    " The number of daily Covid-19 PCR tests and positve cases can for the period 4th-18th\n",
    "of January 2021 "
   ]
  },
  {
   "cell_type": "markdown",
   "metadata": {},
   "source": [
    "**Given the number of daily tests Ti\n",
    ", what is the average number of tests T in the period?**"
   ]
  },
  {
   "cell_type": "code",
   "execution_count": null,
   "metadata": {},
   "outputs": [],
   "source": [
    "date, Nt, Np = np.loadtxt(\"data_Covid19tests.txt\", skiprows=2, unpack=True)"
   ]
  },
  {
   "cell_type": "code",
   "execution_count": null,
   "metadata": {},
   "outputs": [],
   "source": [
    "Nt_mean = sw.weightedmean(Nt, np.sqrt(Nt))"
   ]
  },
  {
   "cell_type": "markdown",
   "metadata": {},
   "source": [
    "**Define the number of scaled positives (SPi) as the number of positives (Pi) times $(Ti/T)^{−0.7}$,\n",
    "and fit the number of scale positive tests with SP(t) = SP0 ·R(t−t0)/tG , where tG = 4.7 days**"
   ]
  },
  {
   "cell_type": "code",
   "execution_count": null,
   "metadata": {},
   "outputs": [],
   "source": [
    "sp = Np*(Nt/Nt_mean[0])**(-0.7)\n",
    "\n",
    "def sp_fit(t,sp0,R):\n",
    "    t0, tg = 4, 4.7\n",
    "    return sp0 * R**((t-t0)/tg)"
   ]
  },
  {
   "cell_type": "code",
   "execution_count": null,
   "metadata": {},
   "outputs": [],
   "source": [
    "x = np.linspace(min(date),max(date),100)\n",
    "y = sp_fit(x,2500,0.5)\n",
    "\n",
    "plt.plot(date,sp,'.')\n",
    "plt.plot(x,y)"
   ]
  },
  {
   "cell_type": "code",
   "execution_count": null,
   "metadata": {},
   "outputs": [],
   "source": [
    "sp_sigma = 4.4*np.sqrt(sp)"
   ]
  },
  {
   "cell_type": "code",
   "execution_count": null,
   "metadata": {},
   "outputs": [],
   "source": [
    "reload(sw);"
   ]
  },
  {
   "cell_type": "code",
   "execution_count": null,
   "metadata": {},
   "outputs": [],
   "source": [
    "sw.chisquarefit(date, sp, sp_sigma, sp_fit, [2500,0.5], plot=True)"
   ]
  },
  {
   "cell_type": "markdown",
   "metadata": {},
   "source": [
    "**How large a systematic uncertainty must be applied, for the fit to give a reasonable p-value**"
   ]
  },
  {
   "cell_type": "markdown",
   "metadata": {},
   "source": [
    "**How large an uncertainty do you find on R, if tG has an uncertainty of ±1.0 days?**"
   ]
  },
  {
   "cell_type": "code",
   "execution_count": null,
   "metadata": {},
   "outputs": [],
   "source": []
  }
 ],
 "metadata": {
  "kernelspec": {
   "display_name": "Python 3",
   "language": "python",
   "name": "python3"
  },
  "language_info": {
   "codemirror_mode": {
    "name": "ipython",
    "version": 3
   },
   "file_extension": ".py",
   "mimetype": "text/x-python",
   "name": "python",
   "nbconvert_exporter": "python",
   "pygments_lexer": "ipython3",
   "version": "3.7.4"
  }
 },
 "nbformat": 4,
 "nbformat_minor": 4
}
