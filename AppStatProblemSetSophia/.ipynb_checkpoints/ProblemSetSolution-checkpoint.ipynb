{
 "cells": [
  {
   "cell_type": "markdown",
   "metadata": {},
   "source": [
    "# Problem Set 2021\n",
    "\n",
    "\n",
    "\n",
    "## Author(s), contact(s), and dates:\n",
    "- Author: Sophia Wilson\n",
    "- Email:  ldr934@alumni.ku.dk\n",
    "- Date:   3rd of January 2022"
   ]
  },
  {
   "cell_type": "code",
   "execution_count": 18,
   "metadata": {},
   "outputs": [],
   "source": [
    "import numpy as np                                     # Matlab like syntax for linear algebra and functions\n",
    "import matplotlib.pyplot as plt                        # Plots and figures like you know them from Matlab\n",
    "import seaborn as sns                                  # Make the plots nicer to look at\n",
    "from iminuit import Minuit                             # The actual fitting tool, better than scipy's\n",
    "import sys                                             # Modules to see files and folders in directories\n",
    "import math\n",
    "from uncertainties import ufloat"
   ]
  },
  {
   "cell_type": "markdown",
   "metadata": {},
   "source": [
    "## I - Distributions and probabilities"
   ]
  },
  {
   "cell_type": "markdown",
   "metadata": {},
   "source": [
    "#### **1.1 Dices**"
   ]
  },
  {
   "cell_type": "markdown",
   "metadata": {},
   "source": [
    "**Counting the number of 3s, N3 among 20 normal dice 1000 times**"
   ]
  },
  {
   "cell_type": "code",
   "execution_count": 19,
   "metadata": {},
   "outputs": [],
   "source": [
    "N3 = []\n",
    "\n",
    "for i in range(1000):\n",
    "    count3s = 0\n",
    "    \n",
    "    for i in range(20):\n",
    "        diceroll = np.random.randint(1,7)\n",
    "        \n",
    "        if diceroll == 3:\n",
    "            count3s +=1\n",
    "    \n",
    "    N3.append(count3s)"
   ]
  },
  {
   "cell_type": "markdown",
   "metadata": {},
   "source": [
    "**Defining a unit Poisson PDF** "
   ]
  },
  {
   "cell_type": "code",
   "execution_count": 20,
   "metadata": {},
   "outputs": [],
   "source": [
    "def poisson_pdf(r,Lambda):\n",
    "    P = np.exp(-Lambda)*Lambda**r/math.factorial(r)\n",
    "    return P"
   ]
  },
  {
   "cell_type": "code",
   "execution_count": 21,
   "metadata": {},
   "outputs": [],
   "source": [
    "xmin = 0\n",
    "xmax = max(N3)\n",
    "x_poisson = np.linspace(xmin, xmax, xmax+1)\n",
    "y_poisson = []\n",
    "\n",
    "for i in x_poisson:\n",
    "    y = poisson_pdf(i,np.mean(N3))\n",
    "    y_poisson.append(y)"
   ]
  },
  {
   "cell_type": "markdown",
   "metadata": {},
   "source": [
    "**Plotting the distribution of N3 and the unit Poisson PDF**"
   ]
  },
  {
   "cell_type": "code",
   "execution_count": 22,
   "metadata": {},
   "outputs": [
    {
     "data": {
      "image/png": "[encoded data removed]",
      "text/plain": [
       "<Figure size 1152x504 with 1 Axes>"
      ]
     },
     "metadata": {
      "needs_background": "light"
     },
     "output_type": "display_data"
    }
   ],
   "source": [
    "bins = np.linspace(0.5,max(N3)+0.5,max(N3)+1.5)\n",
    "xticks = np.linspace(0,max(N3),max(N3)+1)\n",
    "\n",
    "fig1, ax1 = plt.subplots(figsize=(16, 7)) \n",
    "hist1 = ax1.hist(N3, bins=bins, histtype='bar', color= 'lightskyblue', linewidth=2, density=True, label='Data')\n",
    "ax1.set(xlabel='Numbers of 3s, N3', ylabel='Frequency / bin size?', title='Histogram showing the number of 3s among 20 dice')\n",
    "ax1.bar(x_poisson,y_poisson, color= 'red',alpha = 0.3, linewidth=1.2,label='Poisson (no fit)')\n",
    "ax1.legend(loc='upper right', fontsize=14);\n",
    "ax1.set_xticks(xticks);"
   ]
  },
  {
   "cell_type": "markdown",
   "metadata": {},
   "source": [
    "**What is the probability of getting 7 or more 3s in a roll with 20 normal dice?**"
   ]
  },
  {
   "cell_type": "code",
   "execution_count": 23,
   "metadata": {},
   "outputs": [],
   "source": [
    "def biominal_pdf(r,n,p):\n",
    "    P = p**r * (1-p)**(n-r) * math.factorial(n)/math.factorial(r)/math.factorial(n-r)\n",
    "    return P"
   ]
  },
  {
   "cell_type": "code",
   "execution_count": 24,
   "metadata": {},
   "outputs": [],
   "source": [
    "Ptotal = 0\n",
    "\n",
    "for i in range(7,21):\n",
    "    Ptotal += biominal_pdf(i,20,1/6)"
   ]
  },
  {
   "cell_type": "code",
   "execution_count": 25,
   "metadata": {},
   "outputs": [
    {
     "name": "stdout",
     "output_type": "stream",
     "text": [
      "The probability of getting 7 or more 3s is  3.71 %\n"
     ]
    }
   ],
   "source": [
    "print('The probability of getting 7 or more 3s is ', round(Ptotal*100,2), '%')"
   ]
  },
  {
   "cell_type": "markdown",
   "metadata": {},
   "source": [
    "#### **1.2 COVID19 tests,  4th of January 2021**"
   ]
  },
  {
   "cell_type": "markdown",
   "metadata": {},
   "source": [
    "**Assuming both tests are accurate (i.e. have no errors), what is the fraction of positives in\n",
    "each test? And what is the probability that these fractions are statistically the same?**"
   ]
  },
  {
   "cell_type": "code",
   "execution_count": 63,
   "metadata": {},
   "outputs": [
    {
     "name": "stdout",
     "output_type": "stream",
     "text": [
      "Fraction of positive PCR tests: 2464 / 103261 = 0.023861864595539458 = 2.39 %\n",
      "Fraction of positive AntiGen tests: 491 / 26162 = 0.01876767831205565 = 1.88 %\n"
     ]
    }
   ],
   "source": [
    "test = np.array([[103261,2464],[26162,491]])\n",
    "pcr_positive = test[0][1]/test[0][0]\n",
    "ag_positive = test[1][1]/test[1][0]\n",
    "\n",
    "print('Fraction of positive PCR tests:',test[0][1],'/',test[0][0],'=',pcr_positive, '=', round(pcr_positive*100,2),'%')\n",
    "print('Fraction of positive AntiGen tests:',test[1][1],'/',test[1][0],'=', ag_positive,'=', round(ag_positive*100,2),'%')"
   ]
  },
  {
   "cell_type": "markdown",
   "metadata": {},
   "source": [
    "**If the two tests are sampling the same population, what is the false negative rate (i.e. rate\n",
    "of positive testing negative) of the AntiGen test, assuming no other test errors?**"
   ]
  },
  {
   "cell_type": "code",
   "execution_count": 57,
   "metadata": {},
   "outputs": [
    {
     "name": "stdout",
     "output_type": "stream",
     "text": [
      "False negative rate of the AntiGen test: 0.51 %\n"
     ]
    }
   ],
   "source": [
    "print('False negative rate of the AntiGen test:',round((pcr_positive-ag_positive)*100,2),'%')"
   ]
  },
  {
   "cell_type": "markdown",
   "metadata": {},
   "source": [
    "**A test has a 0.02% false positive rate and 20% false negative rate. You test 50000 persons,\n",
    "finding 47 positives. What fraction of the Danish population would you estimate are infected?**"
   ]
  },
  {
   "cell_type": "code",
   "execution_count": 62,
   "metadata": {},
   "outputs": [
    {
     "name": "stdout",
     "output_type": "stream",
     "text": [
      "Estimation of infected persons: 10038 persons\n"
     ]
    }
   ],
   "source": [
    "N_total = 50000\n",
    "N_p = 47\n",
    "false_p = 0.0002\n",
    "false_n = 0.20\n",
    "\n",
    "N_estimate = round(N_p + (N_total-N_p)*false_n - N_p*false_p)\n",
    "print('Estimation of infected persons:', N_estimate,'persons')"
   ]
  },
  {
   "cell_type": "markdown",
   "metadata": {},
   "source": [
    "## II - Error propagation"
   ]
  },
  {
   "cell_type": "markdown",
   "metadata": {},
   "source": [
    "#### **2.1 Law of error propagation**"
   ]
  },
  {
   "cell_type": "code",
   "execution_count": 26,
   "metadata": {},
   "outputs": [
    {
     "name": "stdout",
     "output_type": "stream",
     "text": [
      "y = 0.2065+/-0.0050 z = 1.085+/-0.068\n",
      "y = 0.520+/-0.016 z = 625+/-937\n"
     ]
    }
   ],
   "source": [
    "x1 = ufloat(1.96, 0.03)\n",
    "x2 = ufloat(0.96, 0.03)\n",
    "\n",
    "x = [x1,x2]\n",
    "\n",
    "for i in x:\n",
    "    y = 1/(1+i**2)\n",
    "    z = 1/(1-i)**2\n",
    "    y_ = 'y = {:.2uf}'.format(y)\n",
    "    z_ = 'z = {:.2uf}'.format(z)\n",
    "    print(y_,z_)\n"
   ]
  },
  {
   "cell_type": "markdown",
   "metadata": {},
   "source": [
    "# Things I don't need"
   ]
  },
  {
   "cell_type": "code",
   "execution_count": 27,
   "metadata": {},
   "outputs": [],
   "source": [
    "def gauss_pdf(x, mu, sigma): #Unit Gauss\n",
    "    return 1 / np.sqrt(2 * np.pi) / sigma * np.exp(-(x - mu)**2 / 2. / sigma ** 2)\n",
    "\n",
    "xmin = 0\n",
    "xmax = 10\n",
    "\n",
    "x_gauss = np.linspace(xmin, xmax, 1000)  \n",
    "y_gauss = gauss_pdf(x_gauss, np.mean(N3), np.std(N3))  "
   ]
  },
  {
   "cell_type": "code",
   "execution_count": 28,
   "metadata": {},
   "outputs": [
    {
     "data": {
      "image/png": "[encoded data removed]",
      "text/plain": [
       "<Figure size 1152x504 with 1 Axes>"
      ]
     },
     "metadata": {
      "needs_background": "light"
     },
     "output_type": "display_data"
    }
   ],
   "source": [
    "bins = np.linspace(0.5,max(N3)+0.5,max(N3)+1.5)\n",
    "xticks = np.linspace(0,max(N3),max(N3)+1)\n",
    "\n",
    "fig1, ax1 = plt.subplots(figsize=(16, 7)) \n",
    "hist1 = ax1.hist(N3, bins=bins, histtype='bar', linewidth=2, density=True)\n",
    "ax1.set(xlabel='Numbers of 3s, N3', ylabel='Frequency / bin size?', title='Histogram showing the number of 3s among 20 dice')\n",
    "ax1.plot(x_gauss, y_gauss, '-', color='blue', label='Unit Gauss (no fit)') \n",
    "ax1.legend(loc='upper right', fontsize=14);\n",
    "ax1.set_xticks(xticks);"
   ]
  }
 ],
 "metadata": {
  "kernelspec": {
   "display_name": "Python 3",
   "language": "python",
   "name": "python3"
  },
  "language_info": {
   "codemirror_mode": {
    "name": "ipython",
    "version": 3
   },
   "file_extension": ".py",
   "mimetype": "text/x-python",
   "name": "python",
   "nbconvert_exporter": "python",
   "pygments_lexer": "ipython3",
   "version": "3.7.4"
  }
 },
 "nbformat": 4,
 "nbformat_minor": 4
}
